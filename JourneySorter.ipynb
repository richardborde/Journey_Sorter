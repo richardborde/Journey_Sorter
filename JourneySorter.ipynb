{
  "nbformat": 4,
  "nbformat_minor": 0,
  "metadata": {
    "colab": {
      "provenance": [],
      "authorship_tag": "ABX9TyNHLJpTPXtZmbnnBqKmqZvZ",
      "include_colab_link": true
    },
    "kernelspec": {
      "name": "python3",
      "display_name": "Python 3"
    },
    "language_info": {
      "name": "python"
    }
  },
  "cells": [
    {
      "cell_type": "markdown",
      "metadata": {
        "id": "view-in-github",
        "colab_type": "text"
      },
      "source": [
        "<a href=\"https://colab.research.google.com/github/richardborde/Journey_Sorter/blob/main/JourneySorter.ipynb\" target=\"_parent\"><img src=\"https://colab.research.google.com/assets/colab-badge.svg\" alt=\"Open In Colab\"/></a>"
      ]
    },
    {
      "cell_type": "markdown",
      "source": [
        "## Journey Sorter API\n",
        "\n",
        "This notebook contains an API for sorting a list of boarding cards for various types of transport.\n",
        "It will sort the cards in such a way that they form a complete journey from start to end.\n",
        "\n",
        "### How to Run\n",
        "\n",
        "1. Execute the cell that installs required libraries.\n",
        "2. Run the cell that imports libraries.\n",
        "3. Execute the cells to define the `BoardingCard` and `JourneySorter` classes.\n",
        "4. Run the cell that reads data from Google Sheets.\n",
        "5. Execute the sorting algorithm and see the sorted journey.\n",
        "\n",
        "### Assumptions\n",
        "\n",
        "- There is always an unbroken chain between all legs of the trip.\n",
        "- The sorting algorithm has the lowest possible time complexity to sort the cards.\n",
        "\n",
        "## Google Sheets Integration\n",
        "\n",
        "This Colab notebook works with boarding card data stored in a Google Sheet. You can access the live version of this data [here](https://docs.google.com/spreadsheets/d/1WdhXWghzw692Tk2Vncw1oqc7iDgvCANixABYASB4X5w/edit?pli=1#gid=0).\n",
        "\n",
        "Follow the instructions in the notebook to directly connect to the Google Sheet for the boarding card data.\n"
      ],
      "metadata": {
        "id": "1GcF8ynJUukP"
      }
    },
    {
      "cell_type": "code",
      "source": [
        "# Import libraries and authenticate the user\n",
        "from google.colab import auth\n",
        "auth.authenticate_user()\n",
        "\n",
        "import gspread\n",
        "from google.auth import default\n",
        "\n",
        "# Initialize Google Sheets API Client\n",
        "creds, _ = default()\n",
        "gc = gspread.authorize(creds)\n"
      ],
      "metadata": {
        "id": "omQI_LTX5EYu"
      },
      "execution_count": 19,
      "outputs": []
    },
    {
      "cell_type": "code",
      "source": [
        "class BoardingCard:\n",
        "    \"\"\"\n",
        "    This class represents a boarding card for various types of transport.\n",
        "\n",
        "    Attributes:\n",
        "    - transport_type: A string representing the type of transport (e.g., 'Train', 'Bus', etc.)\n",
        "    - from_city: A string representing the departure city.\n",
        "    - to_city: A string representing the destination city.\n",
        "    - seat: A string representing the seat assignment.\n",
        "    - gate: A string representing the gate number.\n",
        "    - baggage: A string representing the baggage claim or drop-off information.\n",
        "    \"\"\"\n",
        "\n",
        "    def __init__(self, transport_type, departure, destination, seat, gate, baggage):\n",
        "        \"\"\"\n",
        "        Initializes a new BoardingCard object.\n",
        "\n",
        "        Args:\n",
        "        - transport_type (str): The type of transport.\n",
        "        - from_city (str): The departure city.\n",
        "        - to_city (str): The destination city.\n",
        "        - seat (str): The seat assignment.\n",
        "        - gate (str): The gate number.\n",
        "        - baggage (str): Baggage claim or drop-off information.\n",
        "\n",
        "        Returns:\n",
        "        None\n",
        "        \"\"\"\n",
        "        self.transport_type = transport_type\n",
        "        self.departure = departure\n",
        "        self.destination = destination\n",
        "        self.seat = seat\n",
        "        self.gate = gate\n",
        "        self.baggage = baggage\n"
      ],
      "metadata": {
        "id": "TXu1fnbh8C_A"
      },
      "execution_count": 20,
      "outputs": []
    },
    {
      "cell_type": "code",
      "source": [
        "class JourneySorter:\n",
        "    \"\"\"\n",
        "    This class takes a list of boarding cards and sorts them to form a complete journey.\n",
        "    \"\"\"\n",
        "\n",
        "    def __init__(self, boarding_cards):\n",
        "        \"\"\"\n",
        "        Initializes a new JourneySorter object with a list of unsorted boarding cards.\n",
        "        \"\"\"\n",
        "        self.boarding_cards = boarding_cards\n",
        "        self.sorted_journey = []\n",
        "\n",
        "    def sort_journey(self):\n",
        "        \"\"\"\n",
        "        Sorts the list of boarding cards to form a complete journey.\n",
        "        \"\"\"\n",
        "        from_to_map = {card.departure: card for card in self.boarding_cards}\n",
        "        to_from_map = {card.destination: card for card in self.boarding_cards}\n",
        "\n",
        "        # Find the starting city\n",
        "        start = None\n",
        "        for city in from_to_map.keys():\n",
        "            if city not in to_from_map:\n",
        "                start = city\n",
        "                break\n",
        "\n",
        "        # Sort the journey\n",
        "        while start:\n",
        "            card = from_to_map.get(start, None)\n",
        "            if card:\n",
        "                self.sorted_journey.append(card)\n",
        "                start = card.destination\n",
        "            else:\n",
        "                break\n"
      ],
      "metadata": {
        "id": "I-80q0QJxXgX"
      },
      "execution_count": 21,
      "outputs": []
    },
    {
      "cell_type": "code",
      "source": [
        "# Read data from the Google Sheet\n",
        "worksheet = gc.open_by_key('1WdhXWghzw692Tk2Vncw1oqc7iDgvCANixABYASB4X5w').sheet1\n",
        "rows = worksheet.get_all_values()\n",
        "\n",
        "# Convert the rows to BoardingCard objects, taking into account the headers\n",
        "boarding_cards = [BoardingCard(*row) for row in rows[1:]]  # Exclude header\n"
      ],
      "metadata": {
        "id": "oIPahEoGxlXa"
      },
      "execution_count": 22,
      "outputs": []
    },
    {
      "cell_type": "code",
      "source": [
        "print(\"Loaded Boarding Cards:\")\n",
        "for card in boarding_cards:\n",
        "    print(card.__dict__)\n"
      ],
      "metadata": {
        "colab": {
          "base_uri": "https://localhost:8080/"
        },
        "id": "dpjBDJIOPkQO",
        "outputId": "1a30a488-41fc-4f71-8d0f-06a1e5156303"
      },
      "execution_count": 23,
      "outputs": [
        {
          "output_type": "stream",
          "name": "stdout",
          "text": [
            "Loaded Boarding Cards:\n",
            "{'transport_type': 'bus 10', 'departure': 'Boston', 'destination': 'New York', 'seat': '3A', 'gate': '--', 'baggage': '--'}\n",
            "{'transport_type': 'flight AA500', 'departure': 'Tokyo', 'destination': 'San Francisco', 'seat': '12C', 'gate': '25A', 'baggage': '150'}\n",
            "{'transport_type': 'train 56B', 'departure': 'San Francisco', 'destination': 'Boston', 'seat': '7B', 'gate': '--', 'baggage': '--'}\n",
            "{'transport_type': 'flight NH789', 'departure': 'Seoul', 'destination': 'Tokyo', 'seat': '4A', 'gate': '8B', 'baggage': '200'}\n"
          ]
        }
      ]
    },
    {
      "cell_type": "code",
      "source": [
        "# Debug print to check if the boarding cards are correctly populated\n",
        "print(\"Check initial boarding cards:\")\n",
        "for card in boarding_cards:\n",
        "    print(f\"Transport Type: {card.transport_type}, Departure: {card.departure}, Destination: {card.destination}, Seat: {card.seat}, Gate: {card.gate}, Baggage: {card.baggage}\")\n"
      ],
      "metadata": {
        "colab": {
          "base_uri": "https://localhost:8080/"
        },
        "id": "4cui_KMOSsgA",
        "outputId": "3c5b6183-b219-4b8b-9620-2a1593cd970b"
      },
      "execution_count": 24,
      "outputs": [
        {
          "output_type": "stream",
          "name": "stdout",
          "text": [
            "Check initial boarding cards:\n",
            "Transport Type: bus 10, Departure: Boston, Destination: New York, Seat: 3A, Gate: --, Baggage: --\n",
            "Transport Type: flight AA500, Departure: Tokyo, Destination: San Francisco, Seat: 12C, Gate: 25A, Baggage: 150\n",
            "Transport Type: train 56B, Departure: San Francisco, Destination: Boston, Seat: 7B, Gate: --, Baggage: --\n",
            "Transport Type: flight NH789, Departure: Seoul, Destination: Tokyo, Seat: 4A, Gate: 8B, Baggage: 200\n"
          ]
        }
      ]
    },
    {
      "cell_type": "code",
      "source": [
        "# JourneySorter class definition\n",
        "class JourneySorter:\n",
        "    def __init__(self, boarding_cards):\n",
        "        self.boarding_cards = boarding_cards\n",
        "        self.sorted_journey = []\n",
        "\n",
        "    def sort_journey(self):\n",
        "        # Create mappings\n",
        "        from_to_map = {card.departure: card for card in self.boarding_cards}\n",
        "        to_from_map = {card.destination: card for card in self.boarding_cards}\n",
        "\n",
        "        # Debug prints\n",
        "        print(\"From-To Map:\", from_to_map)\n",
        "        print(\"To-From Map:\", to_from_map)\n",
        "\n",
        "        # Find the starting city\n",
        "        for city in from_to_map.keys():\n",
        "          if city not in to_from_map:\n",
        "            start = city\n",
        "            break\n",
        "\n",
        "        # Sort the journey\n",
        "        current = start\n",
        "        while current in from_to_map:\n",
        "            print(f\"Current city: {current}\")  # Debug line\n",
        "            self.sorted_journey.append(from_to_map[current])\n",
        "            current = from_to_map[current].destination\n",
        "            print(f\"Sorted Journey: {[card.destination for card in self.sorted_journey]}\")  # Debug line\n",
        "\n",
        "# Initialize the JourneySorter class and sort the boarding cards\n",
        "journey_sorter = JourneySorter(boarding_cards)\n",
        "journey_sorter.sort_journey()\n",
        "\n",
        "# Display the sorted journey\n",
        "for i, card in enumerate(journey_sorter.sorted_journey):\n",
        "    print(f\"{i+1}. Take {card.transport_type} from {card.departure} to {card.destination}. \"\n",
        "          f\"Sit in seat {card.seat}. Gate: {card.gate}. Baggage: {card.baggage}\")\n"
      ],
      "metadata": {
        "colab": {
          "base_uri": "https://localhost:8080/"
        },
        "id": "XsvYQwVsyLqn",
        "outputId": "d77f36f3-f718-4ef9-c3b0-f054158ff2b6"
      },
      "execution_count": 25,
      "outputs": [
        {
          "output_type": "stream",
          "name": "stdout",
          "text": [
            "From-To Map: {'Boston': <__main__.BoardingCard object at 0x7e0ab2d1fdf0>, 'Tokyo': <__main__.BoardingCard object at 0x7e0a965c9f00>, 'San Francisco': <__main__.BoardingCard object at 0x7e0a965ca230>, 'Seoul': <__main__.BoardingCard object at 0x7e0a965cbb80>}\n",
            "To-From Map: {'New York': <__main__.BoardingCard object at 0x7e0ab2d1fdf0>, 'San Francisco': <__main__.BoardingCard object at 0x7e0a965c9f00>, 'Boston': <__main__.BoardingCard object at 0x7e0a965ca230>, 'Tokyo': <__main__.BoardingCard object at 0x7e0a965cbb80>}\n",
            "Current city: Seoul\n",
            "Sorted Journey: ['Tokyo']\n",
            "Current city: Tokyo\n",
            "Sorted Journey: ['Tokyo', 'San Francisco']\n",
            "Current city: San Francisco\n",
            "Sorted Journey: ['Tokyo', 'San Francisco', 'Boston']\n",
            "Current city: Boston\n",
            "Sorted Journey: ['Tokyo', 'San Francisco', 'Boston', 'New York']\n",
            "1. Take flight NH789 from Seoul to Tokyo. Sit in seat 4A. Gate: 8B. Baggage: 200\n",
            "2. Take flight AA500 from Tokyo to San Francisco. Sit in seat 12C. Gate: 25A. Baggage: 150\n",
            "3. Take train 56B from San Francisco to Boston. Sit in seat 7B. Gate: --. Baggage: --\n",
            "4. Take bus 10 from Boston to New York. Sit in seat 3A. Gate: --. Baggage: --\n"
          ]
        }
      ]
    }
  ]
}